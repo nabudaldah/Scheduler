{
 "cells": [
  {
   "cell_type": "markdown",
   "metadata": {},
   "source": [
    "# Title of Notebook for Auto-Execution\n",
    "Author: Nabi Abudaldah"
   ]
  },
  {
   "cell_type": "code",
   "execution_count": 1,
   "metadata": {
    "execution": {
     "iopub.execute_input": "2023-03-13T09:11:05.308503Z",
     "iopub.status.busy": "2023-03-13T09:11:05.308503Z",
     "iopub.status.idle": "2023-03-13T09:11:05.952462Z",
     "shell.execute_reply": "2023-03-13T09:11:05.952462Z"
    }
   },
   "outputs": [],
   "source": [
    "import pandas as pd"
   ]
  },
  {
   "cell_type": "code",
   "execution_count": 2,
   "metadata": {
    "execution": {
     "iopub.execute_input": "2023-03-13T09:11:05.952462Z",
     "iopub.status.busy": "2023-03-13T09:11:05.952462Z",
     "iopub.status.idle": "2023-03-13T09:11:05.968046Z",
     "shell.execute_reply": "2023-03-13T09:11:05.968046Z"
    }
   },
   "outputs": [
    {
     "name": "stdout",
     "output_type": "stream",
     "text": [
      "hello world 2023-03-13 10:11:05.952462\n"
     ]
    }
   ],
   "source": [
    "print('hello world', pd.Timestamp('now'))"
   ]
  },
  {
   "cell_type": "code",
   "execution_count": 3,
   "metadata": {
    "execution": {
     "iopub.execute_input": "2023-03-13T09:11:05.999294Z",
     "iopub.status.busy": "2023-03-13T09:11:05.999294Z",
     "iopub.status.idle": "2023-03-13T09:11:06.030576Z",
     "shell.execute_reply": "2023-03-13T09:11:06.030576Z"
    }
   },
   "outputs": [
    {
     "name": "stdout",
     "output_type": "stream",
     "text": [
      "all done\n"
     ]
    }
   ],
   "source": [
    "print('all done')"
   ]
  },
  {
   "cell_type": "code",
   "execution_count": 4,
   "metadata": {
    "execution": {
     "iopub.execute_input": "2023-03-13T09:11:06.030576Z",
     "iopub.status.busy": "2023-03-13T09:11:06.030576Z",
     "iopub.status.idle": "2023-03-13T09:11:06.046205Z",
     "shell.execute_reply": "2023-03-13T09:11:06.046205Z"
    }
   },
   "outputs": [],
   "source": [
    "#raise Exception('oh oh')"
   ]
  },
  {
   "cell_type": "code",
   "execution_count": 5,
   "metadata": {},
   "outputs": [],
   "source": []
  }
 ],
 "metadata": {
  "kernelspec": {
   "display_name": "Python 3",
   "language": "python",
   "name": "python3"
  },
  "language_info": {
   "codemirror_mode": {
    "name": "ipython",
    "version": 3
   },
   "file_extension": ".py",
   "mimetype": "text/x-python",
   "name": "python",
   "nbconvert_exporter": "python",
   "pygments_lexer": "ipython3",
   "version": "3.10.10"
  }
 },
 "nbformat": 4,
 "nbformat_minor": 2
}
